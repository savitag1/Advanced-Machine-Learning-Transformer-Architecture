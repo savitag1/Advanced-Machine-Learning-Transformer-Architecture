{
 "cells": [
  {
   "cell_type": "markdown",
   "id": "86fa6135-a33c-4340-bc19-584ee8e901c3",
   "metadata": {},
   "source": [
    "# ADSP 32017 -  Assignment 2\n",
    "\n",
    "### Savita K. Gupta\n",
    "### 16 October 2023"
   ]
  },
  {
   "cell_type": "markdown",
   "id": "ad842551-2c8f-4b33-a360-e6c79d4799a8",
   "metadata": {},
   "source": [
    "### **Question 2**\n",
    "\n",
    "#### *Answer:*\n",
    "\n",
    "The translation of the text (a passage from *The Alchemist*) from L1 (English) to L2 (Spanish) was pretty good. The only line that was significantly different was the very last line. The model mis-translated \"such love\" and dropped the word \"dreams.\" Otherwise, the grammar and syntax seemed fairly accurate.\n",
    "\n",
    "#### *Code:*"
   ]
  },
  {
   "cell_type": "markdown",
   "id": "98e41b91-45a7-4f74-a1b0-13ac0b449423",
   "metadata": {},
   "source": [
    "**2.1 Import Text**"
   ]
  },
  {
   "cell_type": "code",
   "execution_count": 1,
   "id": "c6e8d766-6bd1-4568-9f1a-3f1f669b9a08",
   "metadata": {},
   "outputs": [],
   "source": [
    "# I am going to translate a passage from\n",
    "# Pablo Culeho's The Alchemist\n",
    "# Between English (the language I read the book in first)\n",
    "# and Spanish.\n",
    "\n",
    "\n",
    "text = \"\"\"Because, when you know that language, it's easy to understand that \\\n",
    "someone in the world awaits you, whether it's in the middle of the desert or in some great city. \\\n",
    "And when two such people encounter each other, and their eyes meet, \\\n",
    "the past and the future become unimportant. There is only that moment, and the incredible certainty \\\n",
    "that everything under the sun has been written by one hand only. \\\n",
    "It is the hand that evokes love, and creates a twin soul for every person in the world. \\\n",
    "Without such love, one's dreams would have no meaning.\"\"\"\n"
   ]
  },
  {
   "cell_type": "code",
   "execution_count": 2,
   "id": "39a533b4-b845-482c-a619-36cc29ab0b65",
   "metadata": {},
   "outputs": [
    {
     "name": "stdout",
     "output_type": "stream",
     "text": [
      "Requirement already satisfied: sentencepiece in c:\\users\\shery\\anaconda3\\lib\\site-packages (0.1.99)\n",
      "Note: you may need to restart the kernel to use updated packages.\n"
     ]
    }
   ],
   "source": [
    "#Required for english to spanish model\n",
    "pip install sentencepiece"
   ]
  },
  {
   "cell_type": "code",
   "execution_count": 3,
   "id": "7b133f63-f248-4789-84b9-9236e14ccc36",
   "metadata": {},
   "outputs": [
    {
     "name": "stderr",
     "output_type": "stream",
     "text": [
      "No model was supplied, defaulted to distilbert-base-uncased-finetuned-sst-2-english and revision af0f99b (https://huggingface.co/distilbert-base-uncased-finetuned-sst-2-english).\n",
      "Using a pipeline without specifying a model name and revision in production is not recommended.\n"
     ]
    }
   ],
   "source": [
    "#Import requirements\n",
    "from transformers import pipeline\n",
    "import pandas as pd\n",
    "\n",
    "classifier = pipeline(\"text-classification\")"
   ]
  },
  {
   "cell_type": "code",
   "execution_count": 4,
   "id": "2ab57bce-0bf7-4bf6-93e9-18682c68e0cc",
   "metadata": {},
   "outputs": [
    {
     "data": {
      "text/html": [
       "<div>\n",
       "<style scoped>\n",
       "    .dataframe tbody tr th:only-of-type {\n",
       "        vertical-align: middle;\n",
       "    }\n",
       "\n",
       "    .dataframe tbody tr th {\n",
       "        vertical-align: top;\n",
       "    }\n",
       "\n",
       "    .dataframe thead th {\n",
       "        text-align: right;\n",
       "    }\n",
       "</style>\n",
       "<table border=\"1\" class=\"dataframe\">\n",
       "  <thead>\n",
       "    <tr style=\"text-align: right;\">\n",
       "      <th></th>\n",
       "      <th>label</th>\n",
       "      <th>score</th>\n",
       "    </tr>\n",
       "  </thead>\n",
       "  <tbody>\n",
       "    <tr>\n",
       "      <th>0</th>\n",
       "      <td>POSITIVE</td>\n",
       "      <td>0.987247</td>\n",
       "    </tr>\n",
       "  </tbody>\n",
       "</table>\n",
       "</div>"
      ],
      "text/plain": [
       "      label     score\n",
       "0  POSITIVE  0.987247"
      ]
     },
     "execution_count": 4,
     "metadata": {},
     "output_type": "execute_result"
    }
   ],
   "source": [
    "outputs = classifier(text)\n",
    "pd.DataFrame(outputs)"
   ]
  },
  {
   "cell_type": "markdown",
   "id": "2573019f-4acf-4454-aa8e-a12d4e072a21",
   "metadata": {},
   "source": [
    "**2.2 Translate from English to Spanish**"
   ]
  },
  {
   "cell_type": "code",
   "execution_count": 5,
   "id": "34561a81-a146-48ac-b079-95638a1c2bc6",
   "metadata": {},
   "outputs": [
    {
     "name": "stderr",
     "output_type": "stream",
     "text": [
      "C:\\Users\\shery\\anaconda3\\lib\\site-packages\\transformers\\models\\marian\\tokenization_marian.py:194: UserWarning: Recommended: pip install sacremoses.\n",
      "  warnings.warn(\"Recommended: pip install sacremoses.\")\n"
     ]
    },
    {
     "name": "stdout",
     "output_type": "stream",
     "text": [
      "Porque, cuando conoces ese lenguaje, es fácil entender que alguien en el mundo te espera, ya sea en medio del desierto o en alguna gran ciudad. Y cuando dos personas así se encuentran, y sus ojos se encuentran, el pasado y el futuro se vuelven insignificantes. Solo hay ese momento, y la increíble certeza de que todo bajo el sol ha sido escrito por una sola mano. Es la mano que evoca el amor y crea un alma gemela para cada persona. Sin una sola, hay un alma gemela.\n"
     ]
    }
   ],
   "source": [
    "translator = pipeline(\"translation\", \n",
    "                      model=\"Helsinki-NLP/opus-mt-tc-big-en-es\")\n",
    "outputs = translator(text, clean_up_tokenization_spaces=True, min_length=100)\n",
    "L2 = outputs[0]['translation_text']\n",
    "print(L2)"
   ]
  },
  {
   "cell_type": "markdown",
   "id": "b3dc7bb8-0d46-4293-b189-1354ab43f46a",
   "metadata": {},
   "source": [
    "### **Question 3**\n",
    "\n",
    "\n",
    "#### *Answer:*\n",
    "\n",
    "The translation of the text (a passage from *The Alchemist*) from L2 (Spanish) back to L1 (English) was fair, but not as good as the translation from English to Spanish. The English output of this second translation was different from the original english text, but most of the sentences were very similar.\n",
    "\n",
    "Some of the words were mis-translated (i.e. instead of \"someone\", the second translation put \"some\"). Again, the last sentence was wrong, but somehow less incorrect than the translation from English to Spanish.\n",
    "\n",
    "#### *Code:*"
   ]
  },
  {
   "cell_type": "markdown",
   "id": "bd499273-3be4-40fb-b6ef-002fd096906f",
   "metadata": {},
   "source": [
    "**3.1 Prepare data (translated text from Q2)**"
   ]
  },
  {
   "cell_type": "code",
   "execution_count": 8,
   "id": "2cccd47c-9703-45ee-a617-b5467f952f7e",
   "metadata": {},
   "outputs": [
    {
     "name": "stdout",
     "output_type": "stream",
     "text": [
      "Collecting protobuf\n",
      "  Downloading protobuf-4.24.4-cp310-abi3-win_amd64.whl (430 kB)\n",
      "     -------------------------------------- 430.5/430.5 kB 6.8 MB/s eta 0:00:00\n",
      "Installing collected packages: protobuf\n",
      "Successfully installed protobuf-4.24.4\n",
      "Note: you may need to restart the kernel to use updated packages.\n"
     ]
    }
   ],
   "source": [
    "pip install protobuf"
   ]
  },
  {
   "cell_type": "code",
   "execution_count": 6,
   "id": "bda7b535-2709-4a18-a514-85339cb20ac3",
   "metadata": {},
   "outputs": [
    {
     "data": {
      "text/html": [
       "<div>\n",
       "<style scoped>\n",
       "    .dataframe tbody tr th:only-of-type {\n",
       "        vertical-align: middle;\n",
       "    }\n",
       "\n",
       "    .dataframe tbody tr th {\n",
       "        vertical-align: top;\n",
       "    }\n",
       "\n",
       "    .dataframe thead th {\n",
       "        text-align: right;\n",
       "    }\n",
       "</style>\n",
       "<table border=\"1\" class=\"dataframe\">\n",
       "  <thead>\n",
       "    <tr style=\"text-align: right;\">\n",
       "      <th></th>\n",
       "      <th>label</th>\n",
       "      <th>score</th>\n",
       "    </tr>\n",
       "  </thead>\n",
       "  <tbody>\n",
       "    <tr>\n",
       "      <th>0</th>\n",
       "      <td>NEGATIVE</td>\n",
       "      <td>0.955701</td>\n",
       "    </tr>\n",
       "  </tbody>\n",
       "</table>\n",
       "</div>"
      ],
      "text/plain": [
       "      label     score\n",
       "0  NEGATIVE  0.955701"
      ]
     },
     "execution_count": 6,
     "metadata": {},
     "output_type": "execute_result"
    }
   ],
   "source": [
    "L1 = classifier(L2)\n",
    "pd.DataFrame(L1)"
   ]
  },
  {
   "cell_type": "markdown",
   "id": "6b6af795-d6c7-4430-9dc4-8865ccc2f4f8",
   "metadata": {},
   "source": [
    "**3.2 Translate from Spanish to English**"
   ]
  },
  {
   "cell_type": "code",
   "execution_count": 15,
   "id": "8266b473-b44b-4ed7-8ef0-19334301394a",
   "metadata": {},
   "outputs": [
    {
     "data": {
      "application/vnd.jupyter.widget-view+json": {
       "model_id": "1cf121891bb440a085398a870f8d39d7",
       "version_major": 2,
       "version_minor": 0
      },
      "text/plain": [
       "Downloading:   0%|          | 0.00/1.44k [00:00<?, ?B/s]"
      ]
     },
     "metadata": {},
     "output_type": "display_data"
    },
    {
     "data": {
      "application/vnd.jupyter.widget-view+json": {
       "model_id": "d8aade338324400994884711f65f1c3c",
       "version_major": 2,
       "version_minor": 0
      },
      "text/plain": [
       "Downloading:   0%|          | 0.00/312M [00:00<?, ?B/s]"
      ]
     },
     "metadata": {},
     "output_type": "display_data"
    },
    {
     "data": {
      "application/vnd.jupyter.widget-view+json": {
       "model_id": "a22afa75279d4ca7885865cfc8a7c2ee",
       "version_major": 2,
       "version_minor": 0
      },
      "text/plain": [
       "Downloading:   0%|          | 0.00/44.0 [00:00<?, ?B/s]"
      ]
     },
     "metadata": {},
     "output_type": "display_data"
    },
    {
     "data": {
      "application/vnd.jupyter.widget-view+json": {
       "model_id": "02986b8a6e23412c88c5663fa67f2bcf",
       "version_major": 2,
       "version_minor": 0
      },
      "text/plain": [
       "Downloading:   0%|          | 0.00/826k [00:00<?, ?B/s]"
      ]
     },
     "metadata": {},
     "output_type": "display_data"
    },
    {
     "data": {
      "application/vnd.jupyter.widget-view+json": {
       "model_id": "00bcb5b2c2b042cc9e86a29ca042815f",
       "version_major": 2,
       "version_minor": 0
      },
      "text/plain": [
       "Downloading:   0%|          | 0.00/802k [00:00<?, ?B/s]"
      ]
     },
     "metadata": {},
     "output_type": "display_data"
    },
    {
     "data": {
      "application/vnd.jupyter.widget-view+json": {
       "model_id": "6084dce887124bb38ffb42081df3a657",
       "version_major": 2,
       "version_minor": 0
      },
      "text/plain": [
       "Downloading:   0%|          | 0.00/1.59M [00:00<?, ?B/s]"
      ]
     },
     "metadata": {},
     "output_type": "display_data"
    },
    {
     "name": "stderr",
     "output_type": "stream",
     "text": [
      "C:\\Users\\shery\\anaconda3\\lib\\site-packages\\transformers\\models\\marian\\tokenization_marian.py:194: UserWarning: Recommended: pip install sacremoses.\n",
      "  warnings.warn(\"Recommended: pip install sacremoses.\")\n"
     ]
    },
    {
     "name": "stdout",
     "output_type": "stream",
     "text": [
      "Because, when you know that language, it's easy to understand that some in the world waits you, when it's in the middle of the desert or in some great city. And when two such people counter each other, and their eyes meet, the past and the future become unimportant. There is only that moment, and the incredible certainty that everything under the sun has been written by one hand only. It is the hand that evokes love, and create a twin soul for everyone in the world. Without such love, one's dreams would have no making.\n"
     ]
    }
   ],
   "source": [
    "translator = pipeline(\"translation\", \n",
    "                      model=\"Helsinki-NLP/opus-mt-es-en\")\n",
    "\n",
    "\n",
    "L1 = translator(text, clean_up_tokenization_spaces=True, min_length=100)\n",
    "L1_english = L1[0]['translation_text']\n",
    "\n",
    "print(L1_english)"
   ]
  },
  {
   "cell_type": "markdown",
   "id": "57c21c24-bb24-40f6-9d4b-fd1332f549e4",
   "metadata": {},
   "source": [
    "### **Question 4**\n",
    "\n",
    "\n",
    "#### *Answer:*\n",
    "\n",
    "The text generation for the english text was interesting. The grammar wasn't perfect, but the sentances almost had the same cadence as the original text. The content of the sentences did not make much sense at all.\n",
    "\n",
    "The text generation for the spanish text did not work well. The text generation was incoherent and unrelated to the topic. Also, the generated text switched from spanish to english halfway through and began talking about soccer.\n",
    "\n",
    "#### *Code:*"
   ]
  },
  {
   "cell_type": "markdown",
   "id": "ff89ac5a-6fee-45a4-93c5-035ffaca72cf",
   "metadata": {},
   "source": [
    "**4.1 Text Generation - English**"
   ]
  },
  {
   "cell_type": "code",
   "execution_count": 16,
   "id": "52e02614-85b9-41ad-8eb7-569ebbc45a4f",
   "metadata": {},
   "outputs": [],
   "source": [
    "from transformers import set_seed\n",
    "set_seed(42) # Set the seed to get reproducible results"
   ]
  },
  {
   "cell_type": "code",
   "execution_count": 25,
   "id": "0396ca49-0985-4363-896a-61011f89bdfc",
   "metadata": {},
   "outputs": [
    {
     "name": "stderr",
     "output_type": "stream",
     "text": [
      "No model was supplied, defaulted to gpt2 and revision 6c0e608 (https://huggingface.co/gpt2).\n",
      "Using a pipeline without specifying a model name and revision in production is not recommended.\n",
      "Setting `pad_token_id` to `eos_token_id`:50256 for open-end generation.\n"
     ]
    },
    {
     "name": "stdout",
     "output_type": "stream",
     "text": [
      "Because, when you know that language, it's easy to understand that someone in the world awaits you, whether it's in the middle of the desert or in some great city. And when two such people encounter each other, and their eyes meet, the past and the future become unimportant. There is only that moment, and the incredible certainty that everything under the sun has been written by one hand only. It is the hand that evokes love, and creates a twin soul for every person in the world. Without such love, one's dreams would have no meaning.\n",
      "\n",
      "The Alchemist story continues:\n",
      "The Englishman shook the boy: 'Come on, ask her!' The boy stepped closer to the girl. He whispered; for he felt the magic of the wind; for the girl felt the power of his magic. He stepped past, into the darkness: he saw the other boy in the darkness. But he didn't look at him; he just stared at him. What? A dream? He opened his eyes and saw none of the light. He could no longer see. The young spirit that had opened his eyes now was only a shadow of him; it had reached the other one of its very own. His eyes grew brighter, brighter and brighter. Now, from the dark, the light grew brighter and brighter, coming into light as he had seen it by his own eyes.\n",
      "\n",
      "The Alchemist's spirit became even brighter, and it gave life to the child.\n"
     ]
    }
   ],
   "source": [
    "generator = pipeline(\"text-generation\")\n",
    "\n",
    "#The next line line the book\n",
    "response = \"The Englishman shook the boy: 'Come on, ask her!' The boy stepped closer to the girl.\"\n",
    "\n",
    "\n",
    "prompt = text + \"\\n\\nThe Alchemist story continues:\\n\" + response\n",
    "outputs = generator(prompt, max_length=300)\n",
    "print(outputs[0]['generated_text'])"
   ]
  },
  {
   "cell_type": "markdown",
   "id": "6e781c7f-3f4b-4049-b563-80c81c23ccb3",
   "metadata": {},
   "source": [
    "**4.2 Text Generation - Spanish**"
   ]
  },
  {
   "cell_type": "code",
   "execution_count": 22,
   "id": "6cba420f-89bb-40bb-bb45-28ad287b2128",
   "metadata": {},
   "outputs": [
    {
     "name": "stderr",
     "output_type": "stream",
     "text": [
      "No model was supplied, defaulted to gpt2 and revision 6c0e608 (https://huggingface.co/gpt2).\n",
      "Using a pipeline without specifying a model name and revision in production is not recommended.\n",
      "Setting `pad_token_id` to `eos_token_id`:50256 for open-end generation.\n"
     ]
    },
    {
     "name": "stdout",
     "output_type": "stream",
     "text": [
      "Porque, cuando conoces ese lenguaje, es fácil entender que alguien en el mundo te espera, ya sea en medio del desierto o en alguna gran ciudad. Y cuando dos personas así se encuentran, y sus ojos se encuentran, el pasado y el futuro se vuelven insignificantes. Solo hay ese momento, y la increíble certeza de que todo bajo el sol ha sido escrito por una sola mano. Es la mano que evoca el amor y crea un alma gemela para cada persona. Sin una sola, hay un alma gemela.\n",
      "\n",
      " La historia del Alquimista continúa:\n",
      "El Inglés se levantó de donde estaba sentado y sacudió al chico. —¡Vamos, pregúntaselo a ella! Él se aproximó a la joven. — ¡Femos, más una ese, y los ciudades y los más, y los dargas y los dargas entríamos!\n",
      "\n",
      "\n",
      "This is the one of the most interesting things to happen in the history of the National Football League, all of which has\n"
     ]
    }
   ],
   "source": [
    "generator = pipeline(\"text-generation\")\n",
    "\n",
    "#The next line line the book\n",
    "response = \"El Inglés se levantó de donde estaba sentado y sacudió al chico. —¡Vamos, pregúntaselo a ella! Él se aproximó a la joven.\"\n",
    "\n",
    "\n",
    "prompt = L2 + \"\\n\\n La historia del Alquimista continúa:\\n\" + response\n",
    "outputs = generator(prompt, max_length=500)\n",
    "print(outputs[0]['generated_text'])"
   ]
  },
  {
   "cell_type": "markdown",
   "id": "064c7be9-d47e-4a8e-96d9-2853e209c24d",
   "metadata": {},
   "source": [
    "### **Question 5**\n",
    "\n",
    "\n",
    "#### *Answer:*\n",
    "\n",
    "The summary for the english text was pretty accurate, but felt like a copy of the text rather than a summary. This is not exactly a surprise, given the philosophical and non-literal nature of the passage.\n",
    "\n",
    "The summary for the spanish text very similar to the english summary. It deviated more from the Spanish text, and felt less like an exact copy than the English summary. The grammar and vocab was decent overall.\n",
    "\n",
    "#### *Code:*"
   ]
  },
  {
   "cell_type": "markdown",
   "id": "e766c1b5-9bc8-4a3d-b7a2-f381304dec3b",
   "metadata": {},
   "source": [
    "**5.1 Summarization - English**"
   ]
  },
  {
   "cell_type": "code",
   "execution_count": 27,
   "id": "d6478c6d-b39e-4b8b-ad9a-957abac5d4aa",
   "metadata": {},
   "outputs": [
    {
     "name": "stderr",
     "output_type": "stream",
     "text": [
      "No model was supplied, defaulted to sshleifer/distilbart-cnn-12-6 and revision a4f8f3e (https://huggingface.co/sshleifer/distilbart-cnn-12-6).\n",
      "Using a pipeline without specifying a model name and revision in production is not recommended.\n"
     ]
    },
    {
     "name": "stdout",
     "output_type": "stream",
     "text": [
      " When you know that language, it's easy to understand that someone in the world awaits you, whether it's in the middle of the desert or in some great city. And when two such people encounter each other, and their eyes meet, the past and the future become unimportant. There is only that moment, and the incredible certainty that everything under the sun has been written by one hand only.\n"
     ]
    }
   ],
   "source": [
    "summarizer = pipeline(\"summarization\")\n",
    "outputs = summarizer(text, max_length=100, clean_up_tokenization_spaces=True)\n",
    "print(outputs[0]['summary_text'])"
   ]
  },
  {
   "cell_type": "markdown",
   "id": "347b39fe-0c28-4c68-83dc-ab20c72c0e2a",
   "metadata": {},
   "source": [
    "**5.2 Summarization - Spanish**"
   ]
  },
  {
   "cell_type": "code",
   "execution_count": 28,
   "id": "0dc09d04-d68e-4339-a782-9741125175b2",
   "metadata": {},
   "outputs": [
    {
     "name": "stderr",
     "output_type": "stream",
     "text": [
      "No model was supplied, defaulted to sshleifer/distilbart-cnn-12-6 and revision a4f8f3e (https://huggingface.co/sshleifer/distilbart-cnn-12-6).\n",
      "Using a pipeline without specifying a model name and revision in production is not recommended.\n"
     ]
    },
    {
     "name": "stdout",
     "output_type": "stream",
     "text": [
      " Porque, cuando conoces ese lenguaje, es fácil entender que alguien en el world te espera, ya sea in medio del desierto o en alguna gran ciudad. Y cuando two personas así se encuentran, el pasado y el futuro se vuelven insignificantes. Solo hay ese momento de que todo bajo el sol ha sid\n"
     ]
    }
   ],
   "source": [
    "summarizer = pipeline(\"summarization\")\n",
    "outputs = summarizer(L2, max_length=100, clean_up_tokenization_spaces=True)\n",
    "print(outputs[0]['summary_text'])"
   ]
  },
  {
   "cell_type": "markdown",
   "id": "2187cc13-104a-48fa-9f21-7421833e57d0",
   "metadata": {},
   "source": [
    "### **Question 6**\n",
    "\n",
    "\n",
    "#### *Answer:*\n",
    "\n",
    "English: the answer to the \"recall-style\" question that came directly from the text was completely accurate. The answer to the \"inference-style\" question was not correct at all. The model tried to answer this second question about the \"tone\" of the passage literally, pulling from a random line in the text.\n",
    "\n",
    "Spanish: The answers to questions about the Spanish passage were very different from the answers to the English questions. Even though the questions were very different, the model just answered \"Porque\" or \"Because\" to both questions. The model's \"confidence\" score for both responses is very low. \n",
    "\n",
    "#### *Code:*"
   ]
  },
  {
   "cell_type": "markdown",
   "id": "4d0c12be-7f64-4750-9cb6-33a1d074cb12",
   "metadata": {},
   "source": [
    "**6.1 Reading Comprehension Questions - English**"
   ]
  },
  {
   "cell_type": "code",
   "execution_count": 31,
   "id": "73038eda-e124-459f-88e6-04d6417925fa",
   "metadata": {},
   "outputs": [
    {
     "name": "stderr",
     "output_type": "stream",
     "text": [
      "No model was supplied, defaulted to distilbert-base-cased-distilled-squad and revision 626af31 (https://huggingface.co/distilbert-base-cased-distilled-squad).\n",
      "Using a pipeline without specifying a model name and revision in production is not recommended.\n"
     ]
    },
    {
     "data": {
      "text/html": [
       "<div>\n",
       "<style scoped>\n",
       "    .dataframe tbody tr th:only-of-type {\n",
       "        vertical-align: middle;\n",
       "    }\n",
       "\n",
       "    .dataframe tbody tr th {\n",
       "        vertical-align: top;\n",
       "    }\n",
       "\n",
       "    .dataframe thead th {\n",
       "        text-align: right;\n",
       "    }\n",
       "</style>\n",
       "<table border=\"1\" class=\"dataframe\">\n",
       "  <thead>\n",
       "    <tr style=\"text-align: right;\">\n",
       "      <th></th>\n",
       "      <th>score</th>\n",
       "      <th>start</th>\n",
       "      <th>end</th>\n",
       "      <th>answer</th>\n",
       "    </tr>\n",
       "  </thead>\n",
       "  <tbody>\n",
       "    <tr>\n",
       "      <th>0</th>\n",
       "      <td>0.6152</td>\n",
       "      <td>504</td>\n",
       "      <td>538</td>\n",
       "      <td>one's dreams would have no meaning</td>\n",
       "    </tr>\n",
       "  </tbody>\n",
       "</table>\n",
       "</div>"
      ],
      "text/plain": [
       "    score  start  end                              answer\n",
       "0  0.6152    504  538  one's dreams would have no meaning"
      ]
     },
     "execution_count": 31,
     "metadata": {},
     "output_type": "execute_result"
    }
   ],
   "source": [
    "#Question directly from the text\n",
    "reader = pipeline(\"question-answering\")\n",
    "question = \"What happens without love?\"\n",
    "outputs = reader(question=question, context=text)\n",
    "pd.DataFrame([outputs])    "
   ]
  },
  {
   "cell_type": "code",
   "execution_count": 30,
   "id": "357fc6b1-1cdf-4f63-9565-6a570254f6c3",
   "metadata": {},
   "outputs": [
    {
     "name": "stderr",
     "output_type": "stream",
     "text": [
      "No model was supplied, defaulted to distilbert-base-cased-distilled-squad and revision 626af31 (https://huggingface.co/distilbert-base-cased-distilled-squad).\n",
      "Using a pipeline without specifying a model name and revision in production is not recommended.\n"
     ]
    },
    {
     "data": {
      "text/html": [
       "<div>\n",
       "<style scoped>\n",
       "    .dataframe tbody tr th:only-of-type {\n",
       "        vertical-align: middle;\n",
       "    }\n",
       "\n",
       "    .dataframe tbody tr th {\n",
       "        vertical-align: top;\n",
       "    }\n",
       "\n",
       "    .dataframe thead th {\n",
       "        text-align: right;\n",
       "    }\n",
       "</style>\n",
       "<table border=\"1\" class=\"dataframe\">\n",
       "  <thead>\n",
       "    <tr style=\"text-align: right;\">\n",
       "      <th></th>\n",
       "      <th>score</th>\n",
       "      <th>start</th>\n",
       "      <th>end</th>\n",
       "      <th>answer</th>\n",
       "    </tr>\n",
       "  </thead>\n",
       "  <tbody>\n",
       "    <tr>\n",
       "      <th>0</th>\n",
       "      <td>0.011455</td>\n",
       "      <td>108</td>\n",
       "      <td>162</td>\n",
       "      <td>it's in the middle of the desert or in some gr...</td>\n",
       "    </tr>\n",
       "  </tbody>\n",
       "</table>\n",
       "</div>"
      ],
      "text/plain": [
       "      score  start  end                                             answer\n",
       "0  0.011455    108  162  it's in the middle of the desert or in some gr..."
      ]
     },
     "execution_count": 30,
     "metadata": {},
     "output_type": "execute_result"
    }
   ],
   "source": [
    "#Inference question\n",
    "reader = pipeline(\"question-answering\")\n",
    "question = \"How would you describe the tone of the passage?\"\n",
    "outputs = reader(question=question, context=text)\n",
    "pd.DataFrame([outputs])"
   ]
  },
  {
   "cell_type": "markdown",
   "id": "5d639690-c643-4db8-a04c-da0066a5648a",
   "metadata": {},
   "source": [
    "**6.2 Reading Comprehension Questions - Spanish**"
   ]
  },
  {
   "cell_type": "code",
   "execution_count": 35,
   "id": "235ee471-e0e9-4cc1-85f9-85710f912794",
   "metadata": {},
   "outputs": [
    {
     "name": "stderr",
     "output_type": "stream",
     "text": [
      "No model was supplied, defaulted to distilbert-base-cased-distilled-squad and revision 626af31 (https://huggingface.co/distilbert-base-cased-distilled-squad).\n",
      "Using a pipeline without specifying a model name and revision in production is not recommended.\n"
     ]
    },
    {
     "data": {
      "text/html": [
       "<div>\n",
       "<style scoped>\n",
       "    .dataframe tbody tr th:only-of-type {\n",
       "        vertical-align: middle;\n",
       "    }\n",
       "\n",
       "    .dataframe tbody tr th {\n",
       "        vertical-align: top;\n",
       "    }\n",
       "\n",
       "    .dataframe thead th {\n",
       "        text-align: right;\n",
       "    }\n",
       "</style>\n",
       "<table border=\"1\" class=\"dataframe\">\n",
       "  <thead>\n",
       "    <tr style=\"text-align: right;\">\n",
       "      <th></th>\n",
       "      <th>score</th>\n",
       "      <th>start</th>\n",
       "      <th>end</th>\n",
       "      <th>answer</th>\n",
       "    </tr>\n",
       "  </thead>\n",
       "  <tbody>\n",
       "    <tr>\n",
       "      <th>0</th>\n",
       "      <td>0.005759</td>\n",
       "      <td>0</td>\n",
       "      <td>6</td>\n",
       "      <td>Porque</td>\n",
       "    </tr>\n",
       "  </tbody>\n",
       "</table>\n",
       "</div>"
      ],
      "text/plain": [
       "      score  start  end  answer\n",
       "0  0.005759      0    6  Porque"
      ]
     },
     "execution_count": 35,
     "metadata": {},
     "output_type": "execute_result"
    }
   ],
   "source": [
    "#Question directly from the text\n",
    "reader = pipeline(\"question-answering\")\n",
    "question = \"¿Qué pasa sin amor?\"\n",
    "outputs3 = reader(question=question, context=L2)\n",
    "pd.DataFrame([outputs3])    \n"
   ]
  },
  {
   "cell_type": "code",
   "execution_count": 36,
   "id": "2d3b01a2-d6bb-495b-aeb1-7e7c9cf0a6ee",
   "metadata": {},
   "outputs": [
    {
     "name": "stderr",
     "output_type": "stream",
     "text": [
      "No model was supplied, defaulted to distilbert-base-cased-distilled-squad and revision 626af31 (https://huggingface.co/distilbert-base-cased-distilled-squad).\n",
      "Using a pipeline without specifying a model name and revision in production is not recommended.\n"
     ]
    },
    {
     "data": {
      "text/html": [
       "<div>\n",
       "<style scoped>\n",
       "    .dataframe tbody tr th:only-of-type {\n",
       "        vertical-align: middle;\n",
       "    }\n",
       "\n",
       "    .dataframe tbody tr th {\n",
       "        vertical-align: top;\n",
       "    }\n",
       "\n",
       "    .dataframe thead th {\n",
       "        text-align: right;\n",
       "    }\n",
       "</style>\n",
       "<table border=\"1\" class=\"dataframe\">\n",
       "  <thead>\n",
       "    <tr style=\"text-align: right;\">\n",
       "      <th></th>\n",
       "      <th>score</th>\n",
       "      <th>start</th>\n",
       "      <th>end</th>\n",
       "      <th>answer</th>\n",
       "    </tr>\n",
       "  </thead>\n",
       "  <tbody>\n",
       "    <tr>\n",
       "      <th>0</th>\n",
       "      <td>0.052307</td>\n",
       "      <td>0</td>\n",
       "      <td>6</td>\n",
       "      <td>Porque</td>\n",
       "    </tr>\n",
       "  </tbody>\n",
       "</table>\n",
       "</div>"
      ],
      "text/plain": [
       "      score  start  end  answer\n",
       "0  0.052307      0    6  Porque"
      ]
     },
     "execution_count": 36,
     "metadata": {},
     "output_type": "execute_result"
    }
   ],
   "source": [
    "#Inference question\n",
    "reader = pipeline(\"question-answering\")\n",
    "question = \"¿Cómo describirías el tono del pasaje?\"\n",
    "outputs4 = reader(question=question, context=L2)\n",
    "pd.DataFrame([outputs4])"
   ]
  },
  {
   "cell_type": "markdown",
   "id": "43a599a4-3b54-4955-aaf3-de5fddd24457",
   "metadata": {},
   "source": [
    "### **Question 7**\n",
    "\n",
    "\n",
    "#### *Answer:*\n",
    "\n",
    "The named entity recognition for the English and Spanish texts originally returned an empty array, but this is expected because there were no proper names in my original texts.\n",
    "\n",
    "So, I modified the texts to include some a proper noun/name (Nueva York/New York). The model was able to successfully identify this named entity in both the English and Spanish texts.\n",
    "#### *Code:*"
   ]
  },
  {
   "cell_type": "code",
   "execution_count": 42,
   "id": "2958731e-3fff-443a-b13d-79d33bcedc02",
   "metadata": {},
   "outputs": [],
   "source": [
    "#text with names\n",
    "text2 = \"\"\"Because, when you know that language, it's easy to understand that \\\n",
    "someone in the world awaits you, whether it's in the middle of the desert or in some great city, like in New York. \\\n",
    "And when two such people encounter each other, and their eyes meet, \\\n",
    "the past and the future become unimportant. There is only that moment, and the incredible certainty \\\n",
    "that everything under the sun has been written by one hand only. \\\n",
    "It is the hand that evokes love, and creates a twin soul for every person in the world. \\\n",
    "Without such love, one's dreams would have no meaning.\"\"\""
   ]
  },
  {
   "cell_type": "code",
   "execution_count": 43,
   "id": "0fe1afca-ccd2-4e16-9b23-6e7c86e7a2a9",
   "metadata": {},
   "outputs": [],
   "source": [
    "#L2 with names\n",
    "text3 = \"\"\"Porque, cuando conoces ese lenguaje, es fácil entender que \\\n",
    "alguien en el mundo te espera, ya sea en medio del desierto o en alguna gran ciudad, como en Nueva York. \\\n",
    "Y cuando dos personas así se encuentran, y sus ojos se encuentran, \\\n",
    "el pasado y el futuro se vuelven insignificantes. Solo hay ese momento, y la increíble certeza \\\n",
    "de que todo bajo el sol ha sido escrito por una sola mano. \\\n",
    "Es la mano que evoca el amor y crea un alma gemela para cada persona. \\\n",
    "Sin una sola, hay un alma gemela.\"\"\""
   ]
  },
  {
   "cell_type": "markdown",
   "id": "06c2098f-992c-4f9a-a42f-a6dd14d5fb44",
   "metadata": {},
   "source": [
    "**7.1 Named Entity Recognition - English**"
   ]
  },
  {
   "cell_type": "code",
   "execution_count": null,
   "id": "bee7ec6b-238f-41ed-a580-aa48e7a352ce",
   "metadata": {},
   "outputs": [
    {
     "name": "stderr",
     "output_type": "stream",
     "text": [
      "No model was supplied, defaulted to dbmdz/bert-large-cased-finetuned-conll03-english and revision f2482bf (https://huggingface.co/dbmdz/bert-large-cased-finetuned-conll03-english).\n",
      "Using a pipeline without specifying a model name and revision in production is not recommended.\n"
     ]
    },
    {
     "data": {
      "application/vnd.jupyter.widget-view+json": {
       "model_id": "532527edbb5d40d4b6a0be6ab5ad1e26",
       "version_major": 2,
       "version_minor": 0
      },
      "text/plain": [
       "Downloading:   0%|          | 0.00/998 [00:00<?, ?B/s]"
      ]
     },
     "metadata": {},
     "output_type": "display_data"
    },
    {
     "data": {
      "application/vnd.jupyter.widget-view+json": {
       "model_id": "9602ce153b0c4f1dabe82bbf14b4cbb0",
       "version_major": 2,
       "version_minor": 0
      },
      "text/plain": [
       "Downloading:   0%|          | 0.00/1.33G [00:00<?, ?B/s]"
      ]
     },
     "metadata": {},
     "output_type": "display_data"
    },
    {
     "data": {
      "application/vnd.jupyter.widget-view+json": {
       "model_id": "97a1fd8f50be4de597feb6e02e1c74fe",
       "version_major": 2,
       "version_minor": 0
      },
      "text/plain": [
       "Downloading:   0%|          | 0.00/60.0 [00:00<?, ?B/s]"
      ]
     },
     "metadata": {},
     "output_type": "display_data"
    },
    {
     "data": {
      "application/vnd.jupyter.widget-view+json": {
       "model_id": "a4fc64bee63a41068ede7e803a829502",
       "version_major": 2,
       "version_minor": 0
      },
      "text/plain": [
       "Downloading:   0%|          | 0.00/213k [00:00<?, ?B/s]"
      ]
     },
     "metadata": {},
     "output_type": "display_data"
    },
    {
     "data": {
      "text/html": [
       "<div>\n",
       "<style scoped>\n",
       "    .dataframe tbody tr th:only-of-type {\n",
       "        vertical-align: middle;\n",
       "    }\n",
       "\n",
       "    .dataframe tbody tr th {\n",
       "        vertical-align: top;\n",
       "    }\n",
       "\n",
       "    .dataframe thead th {\n",
       "        text-align: right;\n",
       "    }\n",
       "</style>\n",
       "<table border=\"1\" class=\"dataframe\">\n",
       "  <thead>\n",
       "    <tr style=\"text-align: right;\">\n",
       "      <th></th>\n",
       "    </tr>\n",
       "  </thead>\n",
       "  <tbody>\n",
       "  </tbody>\n",
       "</table>\n",
       "</div>"
      ],
      "text/plain": [
       "Empty DataFrame\n",
       "Columns: []\n",
       "Index: []"
      ]
     },
     "execution_count": 37,
     "metadata": {},
     "output_type": "execute_result"
    }
   ],
   "source": [
    "ner_tagger = pipeline(\"ner\", aggregation_strategy=\"simple\")\n",
    "outputs = ner_tagger(text)\n",
    "pd.DataFrame(outputs) \n"
   ]
  },
  {
   "cell_type": "code",
   "execution_count": 44,
   "id": "a34f4643-491c-410b-9651-221abfb9d9e1",
   "metadata": {},
   "outputs": [
    {
     "name": "stderr",
     "output_type": "stream",
     "text": [
      "No model was supplied, defaulted to dbmdz/bert-large-cased-finetuned-conll03-english and revision f2482bf (https://huggingface.co/dbmdz/bert-large-cased-finetuned-conll03-english).\n",
      "Using a pipeline without specifying a model name and revision in production is not recommended.\n"
     ]
    },
    {
     "data": {
      "text/html": [
       "<div>\n",
       "<style scoped>\n",
       "    .dataframe tbody tr th:only-of-type {\n",
       "        vertical-align: middle;\n",
       "    }\n",
       "\n",
       "    .dataframe tbody tr th {\n",
       "        vertical-align: top;\n",
       "    }\n",
       "\n",
       "    .dataframe thead th {\n",
       "        text-align: right;\n",
       "    }\n",
       "</style>\n",
       "<table border=\"1\" class=\"dataframe\">\n",
       "  <thead>\n",
       "    <tr style=\"text-align: right;\">\n",
       "      <th></th>\n",
       "      <th>entity_group</th>\n",
       "      <th>score</th>\n",
       "      <th>word</th>\n",
       "      <th>start</th>\n",
       "      <th>end</th>\n",
       "    </tr>\n",
       "  </thead>\n",
       "  <tbody>\n",
       "    <tr>\n",
       "      <th>0</th>\n",
       "      <td>LOC</td>\n",
       "      <td>0.999739</td>\n",
       "      <td>New York</td>\n",
       "      <td>172</td>\n",
       "      <td>180</td>\n",
       "    </tr>\n",
       "  </tbody>\n",
       "</table>\n",
       "</div>"
      ],
      "text/plain": [
       "  entity_group     score      word  start  end\n",
       "0          LOC  0.999739  New York    172  180"
      ]
     },
     "execution_count": 44,
     "metadata": {},
     "output_type": "execute_result"
    }
   ],
   "source": [
    "#NER English - modified text\n",
    "ner_tagger = pipeline(\"ner\", aggregation_strategy=\"simple\")\n",
    "outputs = ner_tagger(text2)\n",
    "pd.DataFrame(outputs) "
   ]
  },
  {
   "cell_type": "markdown",
   "id": "4d47793e-ff2a-4c22-a699-f66a39861c95",
   "metadata": {},
   "source": [
    "**7.2 Named Entity Recognition - Spanish**"
   ]
  },
  {
   "cell_type": "code",
   "execution_count": 38,
   "id": "97abc064-1b4a-41b3-8945-b361240839f7",
   "metadata": {},
   "outputs": [
    {
     "name": "stderr",
     "output_type": "stream",
     "text": [
      "No model was supplied, defaulted to dbmdz/bert-large-cased-finetuned-conll03-english and revision f2482bf (https://huggingface.co/dbmdz/bert-large-cased-finetuned-conll03-english).\n",
      "Using a pipeline without specifying a model name and revision in production is not recommended.\n"
     ]
    },
    {
     "data": {
      "text/html": [
       "<div>\n",
       "<style scoped>\n",
       "    .dataframe tbody tr th:only-of-type {\n",
       "        vertical-align: middle;\n",
       "    }\n",
       "\n",
       "    .dataframe tbody tr th {\n",
       "        vertical-align: top;\n",
       "    }\n",
       "\n",
       "    .dataframe thead th {\n",
       "        text-align: right;\n",
       "    }\n",
       "</style>\n",
       "<table border=\"1\" class=\"dataframe\">\n",
       "  <thead>\n",
       "    <tr style=\"text-align: right;\">\n",
       "      <th></th>\n",
       "    </tr>\n",
       "  </thead>\n",
       "  <tbody>\n",
       "  </tbody>\n",
       "</table>\n",
       "</div>"
      ],
      "text/plain": [
       "Empty DataFrame\n",
       "Columns: []\n",
       "Index: []"
      ]
     },
     "execution_count": 38,
     "metadata": {},
     "output_type": "execute_result"
    }
   ],
   "source": [
    "ner_tagger = pipeline(\"ner\", aggregation_strategy=\"simple\")\n",
    "outputs = ner_tagger(L2)\n",
    "pd.DataFrame(outputs) \n"
   ]
  },
  {
   "cell_type": "code",
   "execution_count": 45,
   "id": "15fa2262-1237-4e47-b679-db7e141dc9be",
   "metadata": {},
   "outputs": [
    {
     "name": "stderr",
     "output_type": "stream",
     "text": [
      "No model was supplied, defaulted to dbmdz/bert-large-cased-finetuned-conll03-english and revision f2482bf (https://huggingface.co/dbmdz/bert-large-cased-finetuned-conll03-english).\n",
      "Using a pipeline without specifying a model name and revision in production is not recommended.\n"
     ]
    },
    {
     "data": {
      "text/html": [
       "<div>\n",
       "<style scoped>\n",
       "    .dataframe tbody tr th:only-of-type {\n",
       "        vertical-align: middle;\n",
       "    }\n",
       "\n",
       "    .dataframe tbody tr th {\n",
       "        vertical-align: top;\n",
       "    }\n",
       "\n",
       "    .dataframe thead th {\n",
       "        text-align: right;\n",
       "    }\n",
       "</style>\n",
       "<table border=\"1\" class=\"dataframe\">\n",
       "  <thead>\n",
       "    <tr style=\"text-align: right;\">\n",
       "      <th></th>\n",
       "      <th>entity_group</th>\n",
       "      <th>score</th>\n",
       "      <th>word</th>\n",
       "      <th>start</th>\n",
       "      <th>end</th>\n",
       "    </tr>\n",
       "  </thead>\n",
       "  <tbody>\n",
       "    <tr>\n",
       "      <th>0</th>\n",
       "      <td>LOC</td>\n",
       "      <td>0.995648</td>\n",
       "      <td>Nueva York</td>\n",
       "      <td>152</td>\n",
       "      <td>162</td>\n",
       "    </tr>\n",
       "  </tbody>\n",
       "</table>\n",
       "</div>"
      ],
      "text/plain": [
       "  entity_group     score        word  start  end\n",
       "0          LOC  0.995648  Nueva York    152  162"
      ]
     },
     "execution_count": 45,
     "metadata": {},
     "output_type": "execute_result"
    }
   ],
   "source": [
    "#NER Spanish - modified text\n",
    "\n",
    "ner_tagger = pipeline(\"ner\", aggregation_strategy=\"simple\")\n",
    "outputs = ner_tagger(text3)\n",
    "pd.DataFrame(outputs) "
   ]
  },
  {
   "cell_type": "markdown",
   "id": "0f52085e-1971-42e1-a61a-fc58d189e30a",
   "metadata": {},
   "source": [
    "**8.1 Sentiment Analysis - English**"
   ]
  },
  {
   "cell_type": "markdown",
   "id": "1c410588-8aa4-4fc2-b6c0-3e292c10fbfc",
   "metadata": {},
   "source": [
    "### **Question 8**\n",
    "\n",
    "\n",
    "The sentiment analysis for the English text was correct, and described the text as Positive. There was a very high confidence score for this response.\n",
    "\n",
    "The sentiment analysis for the Spanish text was incorrect. For the same passage in Spanish, the model determined that the passage was Negative. The confidence score for this response was high, but not as high as the sentiment analysis for the English text.\n",
    "\n",
    "#### *Code:*"
   ]
  },
  {
   "cell_type": "markdown",
   "id": "15a6ab85-41e3-4a6e-a40c-8ada059f88fd",
   "metadata": {},
   "source": [
    "**8.1 Sentiment Analysis - English**"
   ]
  },
  {
   "cell_type": "code",
   "execution_count": 46,
   "id": "842bbbe6-6f16-426a-89c6-d089cb8f6ac2",
   "metadata": {},
   "outputs": [
    {
     "name": "stderr",
     "output_type": "stream",
     "text": [
      "No model was supplied, defaulted to distilbert-base-uncased-finetuned-sst-2-english and revision af0f99b (https://huggingface.co/distilbert-base-uncased-finetuned-sst-2-english).\n",
      "Using a pipeline without specifying a model name and revision in production is not recommended.\n"
     ]
    },
    {
     "name": "stdout",
     "output_type": "stream",
     "text": [
      "[{'label': 'POSITIVE', 'score': 0.9872465133666992}]\n"
     ]
    }
   ],
   "source": [
    "senti = pipeline(\"sentiment-analysis\")\n",
    "outputs = senti(text)\n",
    "print(outputs)"
   ]
  },
  {
   "cell_type": "markdown",
   "id": "2f103fb6-a796-4f89-9dd7-1c8e18e33a78",
   "metadata": {},
   "source": [
    "**8.2 Sentiment Analysis - Spanish**"
   ]
  },
  {
   "cell_type": "code",
   "execution_count": 47,
   "id": "ba952197-634b-47fb-9cab-81541d09108c",
   "metadata": {},
   "outputs": [
    {
     "name": "stderr",
     "output_type": "stream",
     "text": [
      "No model was supplied, defaulted to distilbert-base-uncased-finetuned-sst-2-english and revision af0f99b (https://huggingface.co/distilbert-base-uncased-finetuned-sst-2-english).\n",
      "Using a pipeline without specifying a model name and revision in production is not recommended.\n"
     ]
    },
    {
     "name": "stdout",
     "output_type": "stream",
     "text": [
      "[{'label': 'NEGATIVE', 'score': 0.9557006359100342}]\n"
     ]
    }
   ],
   "source": [
    "senti = pipeline(\"sentiment-analysis\")\n",
    "outputs = senti(L2)\n",
    "print(outputs)"
   ]
  }
 ],
 "metadata": {
  "kernelspec": {
   "display_name": "Python 3 (ipykernel)",
   "language": "python",
   "name": "python3"
  },
  "language_info": {
   "codemirror_mode": {
    "name": "ipython",
    "version": 3
   },
   "file_extension": ".py",
   "mimetype": "text/x-python",
   "name": "python",
   "nbconvert_exporter": "python",
   "pygments_lexer": "ipython3",
   "version": "3.10.9"
  }
 },
 "nbformat": 4,
 "nbformat_minor": 5
}
