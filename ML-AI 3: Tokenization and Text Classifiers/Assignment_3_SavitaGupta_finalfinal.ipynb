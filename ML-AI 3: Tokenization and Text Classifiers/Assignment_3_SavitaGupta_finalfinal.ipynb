{
 "cells": [
  {
   "cell_type": "markdown",
   "id": "a8654c2e-b95c-4c9b-b85d-72382e402c59",
   "metadata": {},
   "source": [
    "# ADSP 32017 -  Assignment 3\n",
    "\n",
    "### Savita K. Gupta\n",
    "### 23 October 2023"
   ]
  },
  {
   "cell_type": "markdown",
   "id": "6f7bf428-f9bb-4e15-9c8a-ff3ff9b93ff9",
   "metadata": {},
   "source": [
    "## **Question 1**"
   ]
  },
  {
   "cell_type": "markdown",
   "id": "d13c96b4-c4bc-408c-95d8-20d12ac954a9",
   "metadata": {
    "tags": []
   },
   "source": [
    "### **1.0 Import/Examine Data**"
   ]
  },
  {
   "cell_type": "code",
   "execution_count": 1,
   "id": "25bb6964-7f29-4a17-a8ed-66060aa2417b",
   "metadata": {
    "tags": []
   },
   "outputs": [],
   "source": [
    "from datasets import load_dataset\n",
    "import pandas as pd\n",
    "\n",
    "language = load_dataset(\"papluca/language-identification\")"
   ]
  },
  {
   "cell_type": "code",
   "execution_count": 2,
   "id": "dcf4c8c8-ca18-4e8d-9391-eff5d30170e7",
   "metadata": {},
   "outputs": [
    {
     "data": {
      "text/plain": [
       "DatasetDict({\n",
       "    train: Dataset({\n",
       "        features: ['labels', 'text'],\n",
       "        num_rows: 70000\n",
       "    })\n",
       "    validation: Dataset({\n",
       "        features: ['labels', 'text'],\n",
       "        num_rows: 10000\n",
       "    })\n",
       "    test: Dataset({\n",
       "        features: ['labels', 'text'],\n",
       "        num_rows: 10000\n",
       "    })\n",
       "})"
      ]
     },
     "execution_count": 2,
     "metadata": {},
     "output_type": "execute_result"
    }
   ],
   "source": [
    "language"
   ]
  },
  {
   "cell_type": "code",
   "execution_count": 3,
   "id": "59f22b2a-fbca-4826-90c8-d0634aa0695c",
   "metadata": {},
   "outputs": [
    {
     "data": {
      "text/plain": [
       "Dataset({\n",
       "    features: ['labels', 'text'],\n",
       "    num_rows: 70000\n",
       "})"
      ]
     },
     "execution_count": 3,
     "metadata": {},
     "output_type": "execute_result"
    }
   ],
   "source": [
    "train_ds = language[\"train\"]\n",
    "train_ds"
   ]
  },
  {
   "cell_type": "code",
   "execution_count": 4,
   "id": "fdf769e7-14d8-4854-a1fd-86865ec5410d",
   "metadata": {},
   "outputs": [
    {
     "data": {
      "text/plain": [
       "70000"
      ]
     },
     "execution_count": 4,
     "metadata": {},
     "output_type": "execute_result"
    }
   ],
   "source": [
    "len(train_ds)"
   ]
  },
  {
   "cell_type": "code",
   "execution_count": 5,
   "id": "0188f0bb-0229-4399-82e7-74dd39f16743",
   "metadata": {},
   "outputs": [
    {
     "data": {
      "text/plain": [
       "['labels', 'text']"
      ]
     },
     "execution_count": 5,
     "metadata": {},
     "output_type": "execute_result"
    }
   ],
   "source": [
    "train_ds.column_names"
   ]
  },
  {
   "cell_type": "markdown",
   "id": "fb0894b5-9057-4367-82cb-5330aeb6fead",
   "metadata": {
    "tags": []
   },
   "source": [
    "### **1.1 Create Label IDs (ints) for labels**\n",
    "\n",
    "Use Label Encoder to create integer IDs for each language label.\n",
    "Why: The \"labels\" for the current dataset are strings. "
   ]
  },
  {
   "cell_type": "raw",
   "id": "d5d7d13d-12d9-4233-bd41-e9f29c5bef2c",
   "metadata": {
    "tags": []
   },
   "source": [
    "pip install datasets --upgrade"
   ]
  },
  {
   "cell_type": "markdown",
   "id": "8a84de39-85a9-4c1f-81fc-4b7c7a155f0c",
   "metadata": {},
   "source": [
    "**\"Train\" LabelIDs**"
   ]
  },
  {
   "cell_type": "code",
   "execution_count": 6,
   "id": "9df5601b-3a05-40ef-8f02-3ba371111ec6",
   "metadata": {},
   "outputs": [
    {
     "name": "stdout",
     "output_type": "stream",
     "text": [
      "[12  1 19 ... 17  5  7]\n"
     ]
    }
   ],
   "source": [
    "langLabels1 = language[\"train\"][\"labels\"]\n",
    "\n",
    "from sklearn.preprocessing import LabelEncoder\n",
    "\n",
    "le = LabelEncoder()\n",
    "le.fit(langLabels1)\n",
    "\n",
    "labelIDs1 = le.transform(langLabels1)\n",
    "\n",
    "print(labelIDs1)"
   ]
  },
  {
   "cell_type": "code",
   "execution_count": 8,
   "id": "8145f1a6-6215-4d5e-ab7c-554b3c38648f",
   "metadata": {},
   "outputs": [
    {
     "name": "stdout",
     "output_type": "stream",
     "text": [
      "{'labels': Value(dtype='string', id=None), 'text': Value(dtype='string', id=None), 'labelID': Value(dtype='int64', id=None)}\n",
      "{'labels': ['pt', 'bg'], 'text': ['os chefes de defesa da estónia, letónia, lituânia, alemanha, itália, espanha e eslováquia assinarão o acordo para fornecer pessoal e financiamento para o centro.', 'размерът на хоризонталната мрежа може да бъде по реда на няколко километра ( km ) за на симулация до около 100 km за на симулация .'], 'labelID': [12, 1]}\n"
     ]
    }
   ],
   "source": [
    "new_column1 = labelIDs1\n",
    "language['train'] = language['train'].add_column(\"labelID\", new_column1)\n",
    "\n",
    "print(language[\"train\"].features)\n",
    "print(language['train'][:2])"
   ]
  },
  {
   "cell_type": "markdown",
   "id": "a59933fd-bc6c-4933-98ef-9b3ddd7e7cf7",
   "metadata": {},
   "source": [
    "**\"Validation\" LabelIDs**"
   ]
  },
  {
   "cell_type": "code",
   "execution_count": 9,
   "id": "10e5cf83-f0b8-4ccc-a0b1-743aae7741e4",
   "metadata": {},
   "outputs": [
    {
     "name": "stdout",
     "output_type": "stream",
     "text": [
      "[10 10  5 ... 18  1 11]\n"
     ]
    }
   ],
   "source": [
    "langLabels2 = language[\"validation\"][\"labels\"]\n",
    "\n",
    "le.fit(langLabels2)\n",
    "labelIDs2 = le.transform(langLabels2)\n",
    "\n",
    "print(labelIDs2)"
   ]
  },
  {
   "cell_type": "code",
   "execution_count": 10,
   "id": "4f19396c-5164-4898-b4d6-2451c68c5b21",
   "metadata": {},
   "outputs": [
    {
     "name": "stdout",
     "output_type": "stream",
     "text": [
      "{'labels': Value(dtype='string', id=None), 'text': Value(dtype='string', id=None), 'labelID': Value(dtype='int64', id=None)}\n",
      "{'labels': ['nl', 'nl'], 'text': ['\"Ik ken geen druk,\" zei Mr. Feith, de ondersecretaris van defensie voor beleid.', 'Hier is mijn advies op basis van mijn persoonlijke ervaring met het afkolven van moedermelk voor tweelingjongens voor een heel jaar.'], 'labelID': [10, 10]}\n"
     ]
    }
   ],
   "source": [
    "new_column2 = labelIDs2\n",
    "language['validation'] = language['validation'].add_column(\"labelID\", new_column2)\n",
    "\n",
    "print(language[\"validation\"].features)\n",
    "print(language['validation'][:2])"
   ]
  },
  {
   "cell_type": "markdown",
   "id": "a8259260-996a-4b41-a43e-ccd8c03338b1",
   "metadata": {},
   "source": [
    "**\"Test\" LabelIDs**"
   ]
  },
  {
   "cell_type": "code",
   "execution_count": 11,
   "id": "d3a13389-2ef2-422d-a85b-172a41cb22e0",
   "metadata": {},
   "outputs": [
    {
     "name": "stdout",
     "output_type": "stream",
     "text": [
      "[10 10  5 ... 18  1 11]\n"
     ]
    }
   ],
   "source": [
    "langLabels3 = language[\"test\"][\"labels\"]\n",
    "\n",
    "le.fit(langLabels3)\n",
    "labelIDs3 = le.transform(langLabels3)\n",
    "\n",
    "print(labelIDs3)"
   ]
  },
  {
   "cell_type": "code",
   "execution_count": 12,
   "id": "0d523beb-b021-42a6-8406-e29b821de7f0",
   "metadata": {},
   "outputs": [
    {
     "name": "stdout",
     "output_type": "stream",
     "text": [
      "{'labels': Value(dtype='string', id=None), 'text': Value(dtype='string', id=None), 'labelID': Value(dtype='int64', id=None)}\n",
      "{'labels': ['nl', 'nl'], 'text': ['Een man zingt en speelt gitaar.', 'De technologisch geplaatste Nasdaq Composite Index .IXIC daalde met 25,36 punten, of 1,53 procent, tot 1.628,26.'], 'labelID': [10, 10]}\n"
     ]
    }
   ],
   "source": [
    "new_column3 = labelIDs3\n",
    "language['test'] = language['test'].add_column(\"labelID\", new_column3)\n",
    "\n",
    "print(language['test'].features)\n",
    "print(language['test'][:2])"
   ]
  },
  {
   "cell_type": "markdown",
   "id": "4953ee55-339d-4c46-9cc3-fbe4d9c51640",
   "metadata": {
    "tags": []
   },
   "source": [
    "### **1.2 Tokenization**"
   ]
  },
  {
   "cell_type": "markdown",
   "id": "f5abb53f-d435-40c2-8ad6-3ae54feaff4e",
   "metadata": {},
   "source": [
    "**Setup**"
   ]
  },
  {
   "cell_type": "code",
   "execution_count": 13,
   "id": "6ffa9719-78dd-4528-9b2d-5b0405ff6054",
   "metadata": {},
   "outputs": [],
   "source": [
    "import torch\n",
    "import torch.nn.functional as F\n",
    "\n",
    "from transformers import AutoTokenizer\n",
    "\n",
    "model_lang = 'xlm-roberta-base'\n",
    "tokenizer = AutoTokenizer.from_pretrained(model_lang)"
   ]
  },
  {
   "cell_type": "code",
   "execution_count": 14,
   "id": "05eb79ed-b51b-4e17-9952-2a53470252a7",
   "metadata": {},
   "outputs": [
    {
     "data": {
      "text/plain": [
       "250002"
      ]
     },
     "execution_count": 14,
     "metadata": {},
     "output_type": "execute_result"
    }
   ],
   "source": [
    "tokenizer.vocab_size"
   ]
  },
  {
   "cell_type": "code",
   "execution_count": 15,
   "id": "1099a754-1978-4bba-97cc-2090247b2c68",
   "metadata": {},
   "outputs": [
    {
     "data": {
      "text/plain": [
       "512"
      ]
     },
     "execution_count": 15,
     "metadata": {},
     "output_type": "execute_result"
    }
   ],
   "source": [
    "tokenizer.model_max_length"
   ]
  },
  {
   "cell_type": "code",
   "execution_count": 16,
   "id": "c507b60f-e4b7-4896-a02b-3c028281371e",
   "metadata": {},
   "outputs": [
    {
     "data": {
      "text/plain": [
       "['input_ids', 'attention_mask']"
      ]
     },
     "execution_count": 16,
     "metadata": {},
     "output_type": "execute_result"
    }
   ],
   "source": [
    "tokenizer.model_input_names"
   ]
  },
  {
   "cell_type": "code",
   "execution_count": 34,
   "id": "0e3ba6de-a0e9-4849-b056-2891dbab656a",
   "metadata": {},
   "outputs": [
    {
     "data": {
      "text/html": [
       "<div>\n",
       "<style scoped>\n",
       "    .dataframe tbody tr th:only-of-type {\n",
       "        vertical-align: middle;\n",
       "    }\n",
       "\n",
       "    .dataframe tbody tr th {\n",
       "        vertical-align: top;\n",
       "    }\n",
       "\n",
       "    .dataframe thead th {\n",
       "        text-align: right;\n",
       "    }\n",
       "</style>\n",
       "<table border=\"1\" class=\"dataframe\">\n",
       "  <thead>\n",
       "    <tr style=\"text-align: right;\">\n",
       "      <th></th>\n",
       "      <th>0</th>\n",
       "      <th>1</th>\n",
       "      <th>2</th>\n",
       "      <th>3</th>\n",
       "      <th>4</th>\n",
       "    </tr>\n",
       "  </thead>\n",
       "  <tbody>\n",
       "    <tr>\n",
       "      <th>Special Token</th>\n",
       "      <td>&lt;s&gt;</td>\n",
       "      <td>&lt;pad&gt;</td>\n",
       "      <td>&lt;/s&gt;</td>\n",
       "      <td>&lt;unk&gt;</td>\n",
       "      <td>&lt;mask&gt;</td>\n",
       "    </tr>\n",
       "    <tr>\n",
       "      <th>Special Token ID</th>\n",
       "      <td>0</td>\n",
       "      <td>1</td>\n",
       "      <td>2</td>\n",
       "      <td>3</td>\n",
       "      <td>250001</td>\n",
       "    </tr>\n",
       "  </tbody>\n",
       "</table>\n",
       "</div>"
      ],
      "text/plain": [
       "                    0      1     2      3       4\n",
       "Special Token     <s>  <pad>  </s>  <unk>  <mask>\n",
       "Special Token ID    0      1     2      3  250001"
      ]
     },
     "execution_count": 34,
     "metadata": {},
     "output_type": "execute_result"
    }
   ],
   "source": [
    "tokens2ids = list(zip(tokenizer.all_special_tokens, tokenizer.all_special_ids))\n",
    "\n",
    "data = sorted(tokens2ids, key=lambda x : x[-1])\n",
    "df = pd.DataFrame(data, columns=[\"Special Token\", \"Special Token ID\"])\n",
    "df.T"
   ]
  },
  {
   "cell_type": "markdown",
   "id": "eb88b196-6f78-4e3f-8d4f-0136876d205b",
   "metadata": {},
   "source": [
    "**Tokenization**"
   ]
  },
  {
   "cell_type": "code",
   "execution_count": 17,
   "id": "af42afc1-52ba-47e9-8a61-ccb2f624758b",
   "metadata": {},
   "outputs": [],
   "source": [
    "def tokenize(batch):\n",
    "    return tokenizer(batch[\"text\"], padding=True, truncation=True)"
   ]
  },
  {
   "cell_type": "code",
   "execution_count": 19,
   "id": "0ddca62f-c2f5-4af1-99b3-8b826d61d25a",
   "metadata": {},
   "outputs": [
    {
     "data": {
      "application/vnd.jupyter.widget-view+json": {
       "model_id": "93db253df1a84a22a294e9dd9bf9d0a5",
       "version_major": 2,
       "version_minor": 0
      },
      "text/plain": [
       "Map:   0%|          | 0/70000 [00:00<?, ? examples/s]"
      ]
     },
     "metadata": {},
     "output_type": "display_data"
    }
   ],
   "source": [
    "lang_encoded = language.map(tokenize, batched=True, batch_size=None)"
   ]
  },
  {
   "cell_type": "code",
   "execution_count": 20,
   "id": "84adc72e-8f10-43a1-bf10-fd93017b6cd6",
   "metadata": {},
   "outputs": [
    {
     "name": "stdout",
     "output_type": "stream",
     "text": [
      "['labels', 'text', 'labelID', 'input_ids', 'attention_mask']\n"
     ]
    }
   ],
   "source": [
    "print(lang_encoded[\"train\"].column_names)"
   ]
  },
  {
   "cell_type": "markdown",
   "id": "a2d847a9-c2fb-43b9-9f5c-88c7278e5725",
   "metadata": {
    "tags": []
   },
   "source": [
    "### **1.3 Encoder Model**"
   ]
  },
  {
   "cell_type": "markdown",
   "id": "f5f42e5e-47b3-4579-af05-8b85b0cdcaef",
   "metadata": {},
   "source": [
    "**Import Model**"
   ]
  },
  {
   "cell_type": "code",
   "execution_count": 21,
   "id": "fadcac10-cc6f-420e-b34e-b19fc0d25c4a",
   "metadata": {},
   "outputs": [],
   "source": [
    "from transformers import AutoModel\n",
    "\n",
    "device = torch.device(\"cuda\" if torch.cuda.is_available() else \"cpu\")\n",
    "model = AutoModel.from_pretrained(model_lang).to(device)"
   ]
  },
  {
   "cell_type": "markdown",
   "id": "06b96e30-1653-494e-bc8a-f02de42d44dc",
   "metadata": {},
   "source": [
    "**My Processing Function:**"
   ]
  },
  {
   "cell_type": "code",
   "execution_count": 26,
   "id": "d8d0ac91-1f6c-45b0-81cc-f4ad19265593",
   "metadata": {},
   "outputs": [],
   "source": [
    "def extract_hidden_states(batch):\n",
    "    # Place model inputs on the GPU\n",
    "    inputs = {k:v.to(device) for k,v in batch.items() \n",
    "              if k in tokenizer.model_input_names}\n",
    "    # Extract last hidden states\n",
    "    with torch.no_grad():\n",
    "        last_hidden_state = model(**inputs).last_hidden_state\n",
    "    # Return vector for [CLS] token\n",
    "    return {\"hidden_state\": last_hidden_state[:,0].cpu().numpy()}"
   ]
  },
  {
   "cell_type": "markdown",
   "id": "bc071e7f-e04e-4099-a962-7c2d8b72db3b",
   "metadata": {},
   "source": [
    "**Set Format to Tensor**"
   ]
  },
  {
   "cell_type": "code",
   "execution_count": 27,
   "id": "52acd32f-a573-429d-b0e3-95be1ac62ad8",
   "metadata": {},
   "outputs": [],
   "source": [
    "lang_encoded.set_format(\"torch\", \n",
    "                            columns=[\"labelID\",\"input_ids\",\"attention_mask\"])"
   ]
  },
  {
   "cell_type": "markdown",
   "id": "68dc0310-631c-43e7-b93f-c58664cf9e84",
   "metadata": {
    "tags": []
   },
   "source": [
    "### **1.4 Extract Hidden States**"
   ]
  },
  {
   "cell_type": "code",
   "execution_count": 28,
   "id": "bf4b180a-52d4-4a02-b662-d9317e477b17",
   "metadata": {},
   "outputs": [],
   "source": [
    "torch.cuda.empty_cache() "
   ]
  },
  {
   "cell_type": "code",
   "execution_count": 29,
   "id": "18f7217a-bdf1-49c6-a001-64bb6f26697e",
   "metadata": {},
   "outputs": [
    {
     "data": {
      "application/vnd.jupyter.widget-view+json": {
       "model_id": "135d9664bc5948e1b4918789b051e730",
       "version_major": 2,
       "version_minor": 0
      },
      "text/plain": [
       "Map:   0%|          | 0/70000 [00:00<?, ? examples/s]"
      ]
     },
     "metadata": {},
     "output_type": "display_data"
    },
    {
     "data": {
      "application/vnd.jupyter.widget-view+json": {
       "model_id": "4ec2d3a75ca84f969ce3b076801fc758",
       "version_major": 2,
       "version_minor": 0
      },
      "text/plain": [
       "Map:   0%|          | 0/10000 [00:00<?, ? examples/s]"
      ]
     },
     "metadata": {},
     "output_type": "display_data"
    },
    {
     "data": {
      "application/vnd.jupyter.widget-view+json": {
       "model_id": "dbbcd17662b140ce9aa6338adf1ff3f7",
       "version_major": 2,
       "version_minor": 0
      },
      "text/plain": [
       "Map:   0%|          | 0/10000 [00:00<?, ? examples/s]"
      ]
     },
     "metadata": {},
     "output_type": "display_data"
    }
   ],
   "source": [
    "lang_hidden = lang_encoded.map(extract_hidden_states, batched=True, batch_size=100)"
   ]
  },
  {
   "cell_type": "code",
   "execution_count": 31,
   "id": "1290e509-bc64-4c03-936d-5e1a2a57d4c1",
   "metadata": {},
   "outputs": [
    {
     "data": {
      "text/plain": [
       "['labels', 'text', 'labelID', 'input_ids', 'attention_mask', 'hidden_state']"
      ]
     },
     "execution_count": 31,
     "metadata": {},
     "output_type": "execute_result"
    }
   ],
   "source": [
    "lang_hidden[\"train\"].column_names"
   ]
  },
  {
   "cell_type": "markdown",
   "id": "82bd4005-eec6-4164-8608-0ee215d9d57a",
   "metadata": {
    "tags": []
   },
   "source": [
    "### **1.5 Train Text Classifier (Simple)**"
   ]
  },
  {
   "cell_type": "code",
   "execution_count": 30,
   "id": "35486d17-5802-43fb-afa6-c589c39b9462",
   "metadata": {},
   "outputs": [
    {
     "data": {
      "text/plain": [
       "((70000, 768), (10000, 768))"
      ]
     },
     "execution_count": 30,
     "metadata": {},
     "output_type": "execute_result"
    }
   ],
   "source": [
    "import numpy as np\n",
    "\n",
    "X_train = np.array(lang_hidden[\"train\"][\"hidden_state\"])\n",
    "X_valid = np.array(lang_hidden[\"validation\"][\"hidden_state\"])\n",
    "y_train = np.array(lang_hidden[\"train\"][\"labelID\"])\n",
    "y_valid = np.array(lang_hidden[\"validation\"][\"labelID\"])\n",
    "X_train.shape, X_valid.shape"
   ]
  },
  {
   "cell_type": "code",
   "execution_count": 32,
   "id": "90610556-fa90-43eb-9dda-3ca02848ccc7",
   "metadata": {},
   "outputs": [
    {
     "name": "stderr",
     "output_type": "stream",
     "text": [
      "/opt/conda/lib/python3.10/site-packages/sklearn/linear_model/_logistic.py:460: ConvergenceWarning: lbfgs failed to converge (status=1):\n",
      "STOP: TOTAL NO. of ITERATIONS REACHED LIMIT.\n",
      "\n",
      "Increase the number of iterations (max_iter) or scale the data as shown in:\n",
      "    https://scikit-learn.org/stable/modules/preprocessing.html\n",
      "Please also refer to the documentation for alternative solver options:\n",
      "    https://scikit-learn.org/stable/modules/linear_model.html#logistic-regression\n",
      "  n_iter_i = _check_optimize_result(\n"
     ]
    },
    {
     "data": {
      "text/html": [
       "<style>#sk-container-id-1 {color: black;}#sk-container-id-1 pre{padding: 0;}#sk-container-id-1 div.sk-toggleable {background-color: white;}#sk-container-id-1 label.sk-toggleable__label {cursor: pointer;display: block;width: 100%;margin-bottom: 0;padding: 0.3em;box-sizing: border-box;text-align: center;}#sk-container-id-1 label.sk-toggleable__label-arrow:before {content: \"▸\";float: left;margin-right: 0.25em;color: #696969;}#sk-container-id-1 label.sk-toggleable__label-arrow:hover:before {color: black;}#sk-container-id-1 div.sk-estimator:hover label.sk-toggleable__label-arrow:before {color: black;}#sk-container-id-1 div.sk-toggleable__content {max-height: 0;max-width: 0;overflow: hidden;text-align: left;background-color: #f0f8ff;}#sk-container-id-1 div.sk-toggleable__content pre {margin: 0.2em;color: black;border-radius: 0.25em;background-color: #f0f8ff;}#sk-container-id-1 input.sk-toggleable__control:checked~div.sk-toggleable__content {max-height: 200px;max-width: 100%;overflow: auto;}#sk-container-id-1 input.sk-toggleable__control:checked~label.sk-toggleable__label-arrow:before {content: \"▾\";}#sk-container-id-1 div.sk-estimator input.sk-toggleable__control:checked~label.sk-toggleable__label {background-color: #d4ebff;}#sk-container-id-1 div.sk-label input.sk-toggleable__control:checked~label.sk-toggleable__label {background-color: #d4ebff;}#sk-container-id-1 input.sk-hidden--visually {border: 0;clip: rect(1px 1px 1px 1px);clip: rect(1px, 1px, 1px, 1px);height: 1px;margin: -1px;overflow: hidden;padding: 0;position: absolute;width: 1px;}#sk-container-id-1 div.sk-estimator {font-family: monospace;background-color: #f0f8ff;border: 1px dotted black;border-radius: 0.25em;box-sizing: border-box;margin-bottom: 0.5em;}#sk-container-id-1 div.sk-estimator:hover {background-color: #d4ebff;}#sk-container-id-1 div.sk-parallel-item::after {content: \"\";width: 100%;border-bottom: 1px solid gray;flex-grow: 1;}#sk-container-id-1 div.sk-label:hover label.sk-toggleable__label {background-color: #d4ebff;}#sk-container-id-1 div.sk-serial::before {content: \"\";position: absolute;border-left: 1px solid gray;box-sizing: border-box;top: 0;bottom: 0;left: 50%;z-index: 0;}#sk-container-id-1 div.sk-serial {display: flex;flex-direction: column;align-items: center;background-color: white;padding-right: 0.2em;padding-left: 0.2em;position: relative;}#sk-container-id-1 div.sk-item {position: relative;z-index: 1;}#sk-container-id-1 div.sk-parallel {display: flex;align-items: stretch;justify-content: center;background-color: white;position: relative;}#sk-container-id-1 div.sk-item::before, #sk-container-id-1 div.sk-parallel-item::before {content: \"\";position: absolute;border-left: 1px solid gray;box-sizing: border-box;top: 0;bottom: 0;left: 50%;z-index: -1;}#sk-container-id-1 div.sk-parallel-item {display: flex;flex-direction: column;z-index: 1;position: relative;background-color: white;}#sk-container-id-1 div.sk-parallel-item:first-child::after {align-self: flex-end;width: 50%;}#sk-container-id-1 div.sk-parallel-item:last-child::after {align-self: flex-start;width: 50%;}#sk-container-id-1 div.sk-parallel-item:only-child::after {width: 0;}#sk-container-id-1 div.sk-dashed-wrapped {border: 1px dashed gray;margin: 0 0.4em 0.5em 0.4em;box-sizing: border-box;padding-bottom: 0.4em;background-color: white;}#sk-container-id-1 div.sk-label label {font-family: monospace;font-weight: bold;display: inline-block;line-height: 1.2em;}#sk-container-id-1 div.sk-label-container {text-align: center;}#sk-container-id-1 div.sk-container {/* jupyter's `normalize.less` sets `[hidden] { display: none; }` but bootstrap.min.css set `[hidden] { display: none !important; }` so we also need the `!important` here to be able to override the default hidden behavior on the sphinx rendered scikit-learn.org. See: https://github.com/scikit-learn/scikit-learn/issues/21755 */display: inline-block !important;position: relative;}#sk-container-id-1 div.sk-text-repr-fallback {display: none;}</style><div id=\"sk-container-id-1\" class=\"sk-top-container\"><div class=\"sk-text-repr-fallback\"><pre>LogisticRegression(max_iter=3000)</pre><b>In a Jupyter environment, please rerun this cell to show the HTML representation or trust the notebook. <br />On GitHub, the HTML representation is unable to render, please try loading this page with nbviewer.org.</b></div><div class=\"sk-container\" hidden><div class=\"sk-item\"><div class=\"sk-estimator sk-toggleable\"><input class=\"sk-toggleable__control sk-hidden--visually\" id=\"sk-estimator-id-1\" type=\"checkbox\" checked><label for=\"sk-estimator-id-1\" class=\"sk-toggleable__label sk-toggleable__label-arrow\">LogisticRegression</label><div class=\"sk-toggleable__content\"><pre>LogisticRegression(max_iter=3000)</pre></div></div></div></div></div>"
      ],
      "text/plain": [
       "LogisticRegression(max_iter=3000)"
      ]
     },
     "execution_count": 32,
     "metadata": {},
     "output_type": "execute_result"
    }
   ],
   "source": [
    "# We increase `max_iter` to guarantee convergence \n",
    "from sklearn.linear_model import LogisticRegression\n",
    "\n",
    "lr_clf = LogisticRegression(max_iter=3000)\n",
    "lr_clf.fit(X_train, y_train)"
   ]
  },
  {
   "cell_type": "markdown",
   "id": "8dd3b498-7fce-4a0c-9a40-8a38166988b5",
   "metadata": {},
   "source": [
    "**Q1 Performance**"
   ]
  },
  {
   "cell_type": "code",
   "execution_count": 33,
   "id": "e12c940b-809d-4045-afa0-8f1718a26a6a",
   "metadata": {},
   "outputs": [
    {
     "data": {
      "text/plain": [
       "0.988"
      ]
     },
     "execution_count": 33,
     "metadata": {},
     "output_type": "execute_result"
    }
   ],
   "source": [
    "lr_clf.score(X_valid, y_valid)"
   ]
  },
  {
   "cell_type": "markdown",
   "id": "73fb7465-66bb-403f-b361-3e11fb4aeea6",
   "metadata": {},
   "source": [
    "## **Question 2**"
   ]
  },
  {
   "cell_type": "markdown",
   "id": "b13f8654-3f27-45fc-8de3-d7d14d255e9e",
   "metadata": {},
   "source": [
    "Instead of using the [CLS] token to represent the whole sentence, I am going to try and use the **last token** in the embedding to represent the sentence."
   ]
  },
  {
   "cell_type": "markdown",
   "id": "6e03e7da-baeb-405a-ab2f-db8e974814d3",
   "metadata": {},
   "source": [
    "### **2.1 Tokenization**"
   ]
  },
  {
   "cell_type": "code",
   "execution_count": 35,
   "id": "c9ab2254-d616-4c75-8b68-9c12f795e7dd",
   "metadata": {},
   "outputs": [
    {
     "data": {
      "application/vnd.jupyter.widget-view+json": {
       "model_id": "712d820e1b07460cbc276d0fc90c3e48",
       "version_major": 2,
       "version_minor": 0
      },
      "text/plain": [
       "Map:   0%|          | 0/10000 [00:00<?, ? examples/s]"
      ]
     },
     "metadata": {},
     "output_type": "display_data"
    }
   ],
   "source": [
    "#Fresh tokenization, unformated.\n",
    "\n",
    "lang2_encoded = language.map(tokenize, batched=True, batch_size=None)"
   ]
  },
  {
   "cell_type": "code",
   "execution_count": 36,
   "id": "b6277ec4-e46a-4f7c-8572-c54654f54e5c",
   "metadata": {},
   "outputs": [
    {
     "name": "stdout",
     "output_type": "stream",
     "text": [
      "['labels', 'text', 'labelID', 'input_ids', 'attention_mask']\n"
     ]
    }
   ],
   "source": [
    "print(lang2_encoded[\"train\"].column_names)"
   ]
  },
  {
   "cell_type": "markdown",
   "id": "0e628788-5bc5-4ed0-b467-5ea2ef7f9ac6",
   "metadata": {},
   "source": [
    "### **2.2 Encoder Model**"
   ]
  },
  {
   "cell_type": "code",
   "execution_count": 37,
   "id": "a06176d7-8077-4ba1-abcc-26c4a99271cd",
   "metadata": {},
   "outputs": [],
   "source": [
    "def extract_hidden_states2(batch):\n",
    "    # Place model inputs on the GPU\n",
    "    inputs = {k:v.to(device) for k,v in batch.items() \n",
    "              if k in tokenizer.model_input_names}\n",
    "    # Extract last hidden states\n",
    "    with torch.no_grad():\n",
    "        last_hidden_state = model(**inputs).last_hidden_state\n",
    "    # Return vector for last token\n",
    "    return {\"hidden_state\": last_hidden_state[:,-1].cpu().numpy()}"
   ]
  },
  {
   "cell_type": "code",
   "execution_count": 39,
   "id": "fceaca91-a6eb-41b0-85be-884710dc0fb6",
   "metadata": {},
   "outputs": [],
   "source": [
    "lang2_encoded.set_format(\"torch\", \n",
    "                            columns=[\"labelID\",\"input_ids\",\"attention_mask\"])"
   ]
  },
  {
   "cell_type": "markdown",
   "id": "4bcdfa41-60fb-4771-a6d2-3c0463032f84",
   "metadata": {},
   "source": [
    "### **2.3 Extract Hidden States**"
   ]
  },
  {
   "cell_type": "code",
   "execution_count": 40,
   "id": "c04af448-bb89-482c-b9c9-80fd7de1933c",
   "metadata": {},
   "outputs": [],
   "source": [
    "torch.cuda.empty_cache() "
   ]
  },
  {
   "cell_type": "code",
   "execution_count": 41,
   "id": "01433286-2a77-40e2-be27-1c1f273ea05e",
   "metadata": {},
   "outputs": [
    {
     "data": {
      "application/vnd.jupyter.widget-view+json": {
       "model_id": "b11a7916465c41e685efa5c03b581686",
       "version_major": 2,
       "version_minor": 0
      },
      "text/plain": [
       "Map:   0%|          | 0/70000 [00:00<?, ? examples/s]"
      ]
     },
     "metadata": {},
     "output_type": "display_data"
    },
    {
     "data": {
      "application/vnd.jupyter.widget-view+json": {
       "model_id": "25f2bf6d0a414ac482cbe2485abf55c4",
       "version_major": 2,
       "version_minor": 0
      },
      "text/plain": [
       "Map:   0%|          | 0/10000 [00:00<?, ? examples/s]"
      ]
     },
     "metadata": {},
     "output_type": "display_data"
    },
    {
     "data": {
      "application/vnd.jupyter.widget-view+json": {
       "model_id": "b8816b2fd20044b3915d69d07f702031",
       "version_major": 2,
       "version_minor": 0
      },
      "text/plain": [
       "Map:   0%|          | 0/10000 [00:00<?, ? examples/s]"
      ]
     },
     "metadata": {},
     "output_type": "display_data"
    }
   ],
   "source": [
    "lang2_hidden = lang2_encoded.map(extract_hidden_states2, batched=True, batch_size=100)"
   ]
  },
  {
   "cell_type": "code",
   "execution_count": 42,
   "id": "2b57c1cc-0452-4385-acff-807f60590fe2",
   "metadata": {},
   "outputs": [
    {
     "data": {
      "text/plain": [
       "['labels', 'text', 'labelID', 'input_ids', 'attention_mask', 'hidden_state']"
      ]
     },
     "execution_count": 42,
     "metadata": {},
     "output_type": "execute_result"
    }
   ],
   "source": [
    "lang_hidden[\"train\"].column_names"
   ]
  },
  {
   "cell_type": "markdown",
   "id": "c49def55-d660-49d2-9913-ef625b38f427",
   "metadata": {},
   "source": [
    "### **2.4 Train Text Classifier (Simple)**"
   ]
  },
  {
   "cell_type": "code",
   "execution_count": 43,
   "id": "6c0a9995-ed6d-45cc-ad9e-938dd3028ae3",
   "metadata": {},
   "outputs": [
    {
     "data": {
      "text/plain": [
       "((70000, 768), (10000, 768))"
      ]
     },
     "execution_count": 43,
     "metadata": {},
     "output_type": "execute_result"
    }
   ],
   "source": [
    "import numpy as np\n",
    "\n",
    "X_train2 = np.array(lang2_hidden[\"train\"][\"hidden_state\"])\n",
    "X_valid2 = np.array(lang2_hidden[\"validation\"][\"hidden_state\"])\n",
    "y_train2 = np.array(lang2_hidden[\"train\"][\"labelID\"])\n",
    "y_valid2 = np.array(lang2_hidden[\"validation\"][\"labelID\"])\n",
    "X_train2.shape, X_valid2.shape"
   ]
  },
  {
   "cell_type": "code",
   "execution_count": 44,
   "id": "69c0ea51-8d5a-4b2b-84b1-bf15f8eeecd0",
   "metadata": {},
   "outputs": [
    {
     "name": "stderr",
     "output_type": "stream",
     "text": [
      "/opt/conda/lib/python3.10/site-packages/sklearn/linear_model/_logistic.py:460: ConvergenceWarning: lbfgs failed to converge (status=1):\n",
      "STOP: TOTAL NO. of ITERATIONS REACHED LIMIT.\n",
      "\n",
      "Increase the number of iterations (max_iter) or scale the data as shown in:\n",
      "    https://scikit-learn.org/stable/modules/preprocessing.html\n",
      "Please also refer to the documentation for alternative solver options:\n",
      "    https://scikit-learn.org/stable/modules/linear_model.html#logistic-regression\n",
      "  n_iter_i = _check_optimize_result(\n"
     ]
    },
    {
     "data": {
      "text/html": [
       "<style>#sk-container-id-2 {color: black;}#sk-container-id-2 pre{padding: 0;}#sk-container-id-2 div.sk-toggleable {background-color: white;}#sk-container-id-2 label.sk-toggleable__label {cursor: pointer;display: block;width: 100%;margin-bottom: 0;padding: 0.3em;box-sizing: border-box;text-align: center;}#sk-container-id-2 label.sk-toggleable__label-arrow:before {content: \"▸\";float: left;margin-right: 0.25em;color: #696969;}#sk-container-id-2 label.sk-toggleable__label-arrow:hover:before {color: black;}#sk-container-id-2 div.sk-estimator:hover label.sk-toggleable__label-arrow:before {color: black;}#sk-container-id-2 div.sk-toggleable__content {max-height: 0;max-width: 0;overflow: hidden;text-align: left;background-color: #f0f8ff;}#sk-container-id-2 div.sk-toggleable__content pre {margin: 0.2em;color: black;border-radius: 0.25em;background-color: #f0f8ff;}#sk-container-id-2 input.sk-toggleable__control:checked~div.sk-toggleable__content {max-height: 200px;max-width: 100%;overflow: auto;}#sk-container-id-2 input.sk-toggleable__control:checked~label.sk-toggleable__label-arrow:before {content: \"▾\";}#sk-container-id-2 div.sk-estimator input.sk-toggleable__control:checked~label.sk-toggleable__label {background-color: #d4ebff;}#sk-container-id-2 div.sk-label input.sk-toggleable__control:checked~label.sk-toggleable__label {background-color: #d4ebff;}#sk-container-id-2 input.sk-hidden--visually {border: 0;clip: rect(1px 1px 1px 1px);clip: rect(1px, 1px, 1px, 1px);height: 1px;margin: -1px;overflow: hidden;padding: 0;position: absolute;width: 1px;}#sk-container-id-2 div.sk-estimator {font-family: monospace;background-color: #f0f8ff;border: 1px dotted black;border-radius: 0.25em;box-sizing: border-box;margin-bottom: 0.5em;}#sk-container-id-2 div.sk-estimator:hover {background-color: #d4ebff;}#sk-container-id-2 div.sk-parallel-item::after {content: \"\";width: 100%;border-bottom: 1px solid gray;flex-grow: 1;}#sk-container-id-2 div.sk-label:hover label.sk-toggleable__label {background-color: #d4ebff;}#sk-container-id-2 div.sk-serial::before {content: \"\";position: absolute;border-left: 1px solid gray;box-sizing: border-box;top: 0;bottom: 0;left: 50%;z-index: 0;}#sk-container-id-2 div.sk-serial {display: flex;flex-direction: column;align-items: center;background-color: white;padding-right: 0.2em;padding-left: 0.2em;position: relative;}#sk-container-id-2 div.sk-item {position: relative;z-index: 1;}#sk-container-id-2 div.sk-parallel {display: flex;align-items: stretch;justify-content: center;background-color: white;position: relative;}#sk-container-id-2 div.sk-item::before, #sk-container-id-2 div.sk-parallel-item::before {content: \"\";position: absolute;border-left: 1px solid gray;box-sizing: border-box;top: 0;bottom: 0;left: 50%;z-index: -1;}#sk-container-id-2 div.sk-parallel-item {display: flex;flex-direction: column;z-index: 1;position: relative;background-color: white;}#sk-container-id-2 div.sk-parallel-item:first-child::after {align-self: flex-end;width: 50%;}#sk-container-id-2 div.sk-parallel-item:last-child::after {align-self: flex-start;width: 50%;}#sk-container-id-2 div.sk-parallel-item:only-child::after {width: 0;}#sk-container-id-2 div.sk-dashed-wrapped {border: 1px dashed gray;margin: 0 0.4em 0.5em 0.4em;box-sizing: border-box;padding-bottom: 0.4em;background-color: white;}#sk-container-id-2 div.sk-label label {font-family: monospace;font-weight: bold;display: inline-block;line-height: 1.2em;}#sk-container-id-2 div.sk-label-container {text-align: center;}#sk-container-id-2 div.sk-container {/* jupyter's `normalize.less` sets `[hidden] { display: none; }` but bootstrap.min.css set `[hidden] { display: none !important; }` so we also need the `!important` here to be able to override the default hidden behavior on the sphinx rendered scikit-learn.org. See: https://github.com/scikit-learn/scikit-learn/issues/21755 */display: inline-block !important;position: relative;}#sk-container-id-2 div.sk-text-repr-fallback {display: none;}</style><div id=\"sk-container-id-2\" class=\"sk-top-container\"><div class=\"sk-text-repr-fallback\"><pre>LogisticRegression(max_iter=3000)</pre><b>In a Jupyter environment, please rerun this cell to show the HTML representation or trust the notebook. <br />On GitHub, the HTML representation is unable to render, please try loading this page with nbviewer.org.</b></div><div class=\"sk-container\" hidden><div class=\"sk-item\"><div class=\"sk-estimator sk-toggleable\"><input class=\"sk-toggleable__control sk-hidden--visually\" id=\"sk-estimator-id-2\" type=\"checkbox\" checked><label for=\"sk-estimator-id-2\" class=\"sk-toggleable__label sk-toggleable__label-arrow\">LogisticRegression</label><div class=\"sk-toggleable__content\"><pre>LogisticRegression(max_iter=3000)</pre></div></div></div></div></div>"
      ],
      "text/plain": [
       "LogisticRegression(max_iter=3000)"
      ]
     },
     "execution_count": 44,
     "metadata": {},
     "output_type": "execute_result"
    }
   ],
   "source": [
    "# We increase `max_iter` to guarantee convergence \n",
    "from sklearn.linear_model import LogisticRegression\n",
    "\n",
    "lr_clf = LogisticRegression(max_iter=3000)\n",
    "lr_clf.fit(X_train2, y_train2)"
   ]
  },
  {
   "cell_type": "markdown",
   "id": "c1b17e41-3211-427d-aa9c-6c03d9d1be31",
   "metadata": {},
   "source": [
    "**Q2 Performance**"
   ]
  },
  {
   "cell_type": "code",
   "execution_count": 47,
   "id": "73858842-4c7f-48ce-9070-7861bf9cb6aa",
   "metadata": {},
   "outputs": [
    {
     "data": {
      "text/plain": [
       "0.9902"
      ]
     },
     "execution_count": 47,
     "metadata": {},
     "output_type": "execute_result"
    }
   ],
   "source": [
    "lr_clf.score(X_valid2, y_valid2)"
   ]
  },
  {
   "cell_type": "markdown",
   "id": "ec237ddd-6a42-451d-a6af-5ed10b7d47ad",
   "metadata": {},
   "source": [
    "#### **Results**\n",
    "\n",
    "#### The Q2 classifier performed better than the Q1 classifier by 0.0022."
   ]
  }
 ],
 "metadata": {
  "kernelspec": {
   "display_name": "Python 3 (ipykernel)",
   "language": "python",
   "name": "python3"
  },
  "language_info": {
   "codemirror_mode": {
    "name": "ipython",
    "version": 3
   },
   "file_extension": ".py",
   "mimetype": "text/x-python",
   "name": "python",
   "nbconvert_exporter": "python",
   "pygments_lexer": "ipython3",
   "version": "3.10.9"
  }
 },
 "nbformat": 4,
 "nbformat_minor": 5
}
